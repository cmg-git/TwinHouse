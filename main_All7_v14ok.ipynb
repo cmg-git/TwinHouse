{
 "cells": [
  {
   "cell_type": "code",
   "execution_count": null,
   "id": "4d98e646-7fae-4fd9-ad9c-9ca5e6d3a767",
   "metadata": {},
   "outputs": [
    {
     "name": "stdout",
     "output_type": "stream",
     "text": [
      "error: graphics_toolkit: qt toolkit is not available\n",
      "error: called from\n",
      "    graphics_toolkit at line 88 column 5\n",
      "\n",
      "AssX =\n",
      "\n",
      "    1    1    8   30\n",
      "    1    1    9   30\n",
      "    2    1   10   30\n",
      "    3    1   11   30\n",
      "    3    1   12   30\n",
      "    4    1   13   30\n",
      "    6    1   14   30\n",
      "    7    1   15   30\n",
      "    4    1   16   30\n",
      "    7    1   17   30\n",
      "    2    1   18    1\n",
      "    1    1   18    7\n",
      "    2    1   19    1\n",
      "    3    1   19    7\n",
      "    4    1   20    1\n",
      "    1    1   20    7\n",
      "    2    1   21    1\n",
      "    4    1   21    7\n",
      "    5    1   22    1\n",
      "    4    1   22    7\n",
      "    7    1   23    1\n",
      "    4    1   23    7\n",
      "    3    1   24    1\n",
      "    6    1   24   11\n",
      "    5    1   25    1\n",
      "    6    1   25   11\n",
      "    7    1   26    1\n",
      "    6    1   26   11\n",
      "    1    1   27   17\n",
      "    2    1   28   17\n",
      "    3    1   29   17\n",
      "    4    1   30   17\n",
      "    5    1   31   17\n",
      "    6    1   32   17\n",
      "    7    1   33   17\n",
      "    1    1   34   18\n",
      "    2    1   35   18\n",
      "    3    1   36   18\n",
      "    4    1   37   18\n",
      "    5    1   38   18\n",
      "    6    1   39   18\n",
      "    7    1   40   18\n",
      "    4    1   41    1\n",
      "    1    1   41    5\n",
      "    4    1   42    1\n",
      "    2    1   42    5\n",
      "    3    1   43    1\n",
      "    5    1   43    5\n",
      "    2    1   44    4\n",
      "    1    1   45    2\n",
      "    3    1   46    2\n",
      "    4    1   47    2\n",
      "    6    1   48    2\n",
      "    4    1   49    2\n",
      "    7    1   50    2\n",
      "    4    1   51    1\n",
      "    1    1   51    2\n",
      "    2    1   52    1\n",
      "    4    1   52    2\n",
      "    3    1   53    2\n",
      "    5    1   53    1\n",
      "    4    1   54    1\n",
      "    5    1   54    2\n",
      "    5    1   55    1\n",
      "    6    1   55    2\n",
      "    5    1   56    1\n",
      "    7    1   56    2\n",
      "    4    1   57    1\n",
      "\n",
      "max dt = 185.9411[s]"
     ]
    }
   ],
   "source": [
    "main_All7_v14ok"
   ]
  },
  {
   "cell_type": "markdown",
   "id": "15007ff2",
   "metadata": {},
   "source": [
    "# Test"
   ]
  }
 ],
 "metadata": {
  "kernelspec": {
   "display_name": "Octave",
   "language": "octave",
   "name": "octave"
  },
  "language_info": {
   "file_extension": ".m",
   "help_links": [
    {
     "text": "GNU Octave",
     "url": "https://www.gnu.org/software/octave/support.html"
    },
    {
     "text": "Octave Kernel",
     "url": "https://github.com/Calysto/octave_kernel"
    },
    {
     "text": "MetaKernel Magics",
     "url": "https://metakernel.readthedocs.io/en/latest/source/README.html"
    }
   ],
   "mimetype": "text/x-octave",
   "name": "octave",
   "version": "6.4.0"
  }
 },
 "nbformat": 4,
 "nbformat_minor": 5
}
